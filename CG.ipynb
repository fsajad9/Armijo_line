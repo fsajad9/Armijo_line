{
  "nbformat": 4,
  "nbformat_minor": 0,
  "metadata": {
    "accelerator": "GPU",
    "colab": {
      "name": "CG.ipynb",
      "provenance": [],
      "authorship_tag": "ABX9TyPqSZobdtUIvZ+BL+DS23uq",
      "include_colab_link": true
    },
    "kernelspec": {
      "display_name": "Python 3",
      "name": "python3"
    },
    "language_info": {
      "name": "python"
    }
  },
  "cells": [
    {
      "cell_type": "markdown",
      "metadata": {
        "id": "view-in-github",
        "colab_type": "text"
      },
      "source": [
        "<a href=\"https://colab.research.google.com/github/fsajad9/Armijo_line/blob/main/CG.ipynb\" target=\"_parent\"><img src=\"https://colab.research.google.com/assets/colab-badge.svg\" alt=\"Open In Colab\"/></a>"
      ]
    },
    {
      "cell_type": "code",
      "metadata": {
        "id": "xktcj9UEKHdl"
      },
      "source": [
        "import numpy as np\n",
        "from matplotlib import pyplot as plt"
      ],
      "execution_count": null,
      "outputs": []
    },
    {
      "cell_type": "code",
      "metadata": {
        "id": "k0Bx84NdQDJ4"
      },
      "source": [
        "class Sajad:\n",
        "  def __init__(self,x,y,w,b):\n",
        "    self.x=x\n",
        "    self.y=y\n",
        "    self.w=w\n",
        "    self.b=b\n",
        "  def error(self):\n",
        "    return self.x*self.w+self.b-self.y\n",
        "  def loss(self):\n",
        "    return (self.error()*self.error()).mean()\n",
        "  def grad_b(self):\n",
        "    return 2*self.error().mean()  \n",
        "  def grad_w(self):\n",
        "    return 2*(self.x*self.error()).mean()\n",
        "  def con(self):\n",
        "    u=[self.grad_w(),self.grad_b()]\n",
        "    return np.linalg.norm(u)\n",
        "\n",
        "  #def step(self):\n",
        "   # return self.loss()/(self.con()**2+.1)\n",
        "  def new_step_w(self,alpha):\n",
        "    return self.w-alpha*self.grad_w()\n",
        "  def new_step_b(self,alpha):\n",
        "    return self.b-alpha*self.grad_b()\n",
        "        \n",
        "def stt(x,y,w1,b1,c,beta,alpha0,loss,grad_w,grad_b):\n",
        "  w=np.copy(w1)\n",
        "  b=np.copy(b1)\n",
        "  w=w-alpha0*grad_w\n",
        "  b=b-alpha0*grad_b\n",
        "  err=w*x+b-y\n",
        "  loss_new=(err**2).mean()\n",
        "  u=[grad_w,grad_b]\n",
        "  norm_g=np.linalg.norm(u)\n",
        "  it=0\n",
        "  for i in range(10):\n",
        "    if loss_new<loss-c*alpha0*np.dot(u,u):\n",
        "      break\n",
        "\n",
        "    alpha0=beta*alpha0\n",
        "    w=w-alpha0*grad_w\n",
        "    b=b-alpha0*grad_b\n",
        "    err=w*x+b-y\n",
        "    loss_new=(err*err).mean()\n",
        "    \n",
        "    it=it+1\n",
        "  return alpha0  \n",
        "\n",
        "\n",
        "\n",
        "\n",
        "            \n",
        "\n",
        "\n",
        "\n",
        "\n",
        "  "
      ],
      "execution_count": null,
      "outputs": []
    },
    {
      "cell_type": "code",
      "metadata": {
        "id": "Qe92CkAbREuH"
      },
      "source": [
        "\n",
        "def SGD(w,b,x,y,n,n_epoch):\n",
        "  alpha0=.5\n",
        "  beta=.75\n",
        "  c=0.1\n",
        "  losses=[]\n",
        "  for i in range(n_epoch):\n",
        "\n",
        "    ind=np.random.randint(0,n,16)\n",
        "    x1=x[ind]\n",
        "    y1=y[ind]\n",
        "    saj=Sajad(x1,y1,w,b)\n",
        "    error=saj.error()\n",
        "    loss=saj.loss()\n",
        "    losses.append(loss)\n",
        "    g_w=saj.grad_w()\n",
        "    g_b=saj.grad_b()\n",
        "    alpha=stt(x1,y1,w,b,c,beta,alpha0,loss,g_w,g_b)\n",
        "  \n",
        "    w=saj.new_step_w(alpha)\n",
        "    b=saj.new_step_b(alpha)\n",
        "    alpha0=2*alpha\n",
        "  return losses,w,b  \n",
        "\n",
        "\n",
        "\n"
      ],
      "execution_count": null,
      "outputs": []
    },
    {
      "cell_type": "code",
      "metadata": {
        "colab": {
          "base_uri": "https://localhost:8080/",
          "height": 283
        },
        "id": "aEePsso5LUiC",
        "outputId": "3d4abb5c-e0ad-41c4-c539-6ce575d17c79"
      },
      "source": [
        "n=10000\n",
        "w0=1\n",
        "b0=2\n",
        "n_epoch=50\n",
        "x=np.random.rand(n,1)\n",
        "ep=np.random.randn(n,1)\n",
        "y=b0+w0*x+.1*ep\n",
        "w=np.random.randn(1)\n",
        "b=np.random.randn(1)\n",
        "\n",
        "los,w,b=SGD(w,b,x,y,n,n_epoch)\n",
        "plt.plot(los)"
      ],
      "execution_count": null,
      "outputs": [
        {
          "output_type": "execute_result",
          "data": {
            "text/plain": [
              "[<matplotlib.lines.Line2D at 0x7f4734b60e90>]"
            ]
          },
          "metadata": {},
          "execution_count": 187
        },
        {
          "output_type": "display_data",
          "data": {
            "image/png": "[encoded data removed]",
            "text/plain": [
              "<Figure size 432x288 with 1 Axes>"
            ]
          },
          "metadata": {
            "needs_background": "light"
          }
        }
      ]
    },
    {
      "cell_type": "code",
      "metadata": {
        "colab": {
          "base_uri": "https://localhost:8080/"
        },
        "id": "PmOuetEXM-UJ",
        "outputId": "bb3ede25-308f-4e4f-9376-3db37d840fd0"
      },
      "source": [
        "min(los)"
      ],
      "execution_count": null,
      "outputs": [
        {
          "output_type": "execute_result",
          "data": {
            "text/plain": [
              "0.0033743200466775725"
            ]
          },
          "metadata": {},
          "execution_count": 185
        }
      ]
    },
    {
      "cell_type": "code",
      "metadata": {
        "id": "dtwRJYiZaJGA"
      },
      "source": [
        ""
      ],
      "execution_count": null,
      "outputs": []
    }
  ]
}
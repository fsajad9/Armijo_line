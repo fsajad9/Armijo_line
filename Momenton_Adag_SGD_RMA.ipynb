{
  "nbformat": 4,
  "nbformat_minor": 0,
  "metadata": {
    "colab": {
      "name": "Moment.ipynb",
      "provenance": [],
      "authorship_tag": "ABX9TyMQbtwIJx8UkIqivn14Mrnw",
      "include_colab_link": true
    },
    "kernelspec": {
      "name": "python3",
      "display_name": "Python 3"
    },
    "language_info": {
      "name": "python"
    },
    "accelerator": "GPU"
  },
  "cells": [
    {
      "cell_type": "markdown",
      "metadata": {
        "id": "view-in-github",
        "colab_type": "text"
      },
      "source": [
        "<a href=\"https://colab.research.google.com/github/fsajad9/Armijo_line/blob/main/Momenton_Adag_SGD_RMA.ipynb\" target=\"_parent\"><img src=\"https://colab.research.google.com/assets/colab-badge.svg\" alt=\"Open In Colab\"/></a>"
      ]
    },
    {
      "cell_type": "code",
      "metadata": {
        "id": "2DVa_DK6hdt2"
      },
      "source": [
        "import numpy as np\n",
        "from matplotlib import pyplot as plt"
      ],
      "execution_count": 36,
      "outputs": []
    },
    {
      "cell_type": "code",
      "metadata": {
        "id": "oXqgcW3ch3DR"
      },
      "source": [
        "class Mon:\n",
        "  def __init__(self,x,y,w):\n",
        "    self.x=x\n",
        "    self.y=y\n",
        "    self.w=w\n",
        "  def error(self):\n",
        "    return np.dot(self.w,self.x)-self.y  \n",
        "\n",
        "  def loss(self):\n",
        "    return (self.error()**2).mean()\n",
        "  def grad_w(self):\n",
        "    return (2*self.x*self.error()).mean(1)\n",
        "  def new_point(self,alp,serch):\n",
        "    return self.w-alp*serch"
      ],
      "execution_count": 37,
      "outputs": []
    },
    {
      "cell_type": "code",
      "metadata": {
        "id": "TImsFAqrh5zs"
      },
      "source": [
        "\n",
        "def ste_siz(x,y,w,beta,c,loss,grad_w,alpha):\n",
        "\n",
        "  w1=w-alpha*grad_w\n",
        "  yhat=np.dot(w1,x)\n",
        "  error=yhat-y\n",
        "  loss_new=(error**2).mean()\n",
        "  no=np.linalg.norm(grad_w)\n",
        "  for i in range(10):\n",
        "    if loss_new<=loss-alpha*c*no**2:\n",
        "      break\n",
        "    alpha=alpha*beta\n",
        "    w1=w-alpha*grad_w\n",
        "    error=np.dot(w1,x)-y\n",
        "    loss_new=(error**2).mean()\n",
        "  alpha=min(1,alpha)  \n",
        "  return alpha    \n",
        "\n",
        "\n",
        "\n"
      ],
      "execution_count": 38,
      "outputs": []
    },
    {
      "cell_type": "code",
      "metadata": {
        "id": "KwicN7BmiOZR"
      },
      "source": [
        "def momenton(n_epoch,x,y,c,beta,gamma,w,alpha):\n",
        "  losses=[]\n",
        "  for i in range(n_epoch):\n",
        "    m1=np.random.randint(0,n,int(n/5))\n",
        "    x1=x[:,m1]\n",
        "    y1=y[:,m1]\n",
        "    mm=Mon(x1,y1,w)\n",
        "    los=mm.loss()\n",
        "    losses.append(los)\n",
        "    grad=mm.grad_w()\n",
        "    if i==0:\n",
        "      sr=grad\n",
        "    else:\n",
        "      sr=gamma*sr1+(1-gamma)*grad\n",
        "    alp=ste_siz(x,y,w,beta,c,los,sr,alpha)\n",
        "    sr1=sr    \n",
        "\n",
        "    w=mm.new_point(alp,sr)\n",
        "\n",
        "    alpha=2*alp\n",
        "  return losses\n",
        "\n"
      ],
      "execution_count": 39,
      "outputs": []
    },
    {
      "cell_type": "code",
      "metadata": {
        "id": "oWaxuweqpIna"
      },
      "source": [
        "def non_momenton(n_epoch,x,y,c,beta,gamma,w,alpha):\n",
        "  losses=[]\n",
        "  for i in range(n_epoch):\n",
        "    m1=np.random.randint(0,n,int(n/5))\n",
        "    x1=x[:,m1]\n",
        "    y1=y[:,m1]\n",
        "    mm=Mon(x1,y1,w)\n",
        "    los=mm.loss()\n",
        "    losses.append(los)\n",
        "    grad=mm.grad_w()\n",
        "    sr=grad\n",
        "\n",
        "    alp=ste_siz(x,y,w,beta,c,los,sr,alpha)\n",
        "  \n",
        "\n",
        "    w=mm.new_point(alp,sr)\n",
        "\n",
        "    alpha=2*alp\n",
        "  return losses\n"
      ],
      "execution_count": 40,
      "outputs": []
    },
    {
      "cell_type": "code",
      "metadata": {
        "id": "BCoVvgQysJPu"
      },
      "source": [
        "def adag(n_epoch,x,y,c,beta,gamma,w,alpha,D):\n",
        "  losses=[]\n",
        "  for i in range(n_epoch):\n",
        "    m1=np.random.randint(0,n,int(n/5))\n",
        "    x1=x[:,m1]\n",
        "    y1=y[:,m1]\n",
        "    mm=Mon(x1,y1,w)\n",
        "    los=mm.loss()\n",
        "    losses.append(los)\n",
        "    grad=mm.grad_w()\n",
        "    D=D+grad*grad\n",
        "    \n",
        "    sr=np.sqrt(1/D)\n",
        "    sr1=sr*grad\n",
        "    \n",
        "    \n",
        "\n",
        "\n",
        "    alp=ste_siz(x,y,w,beta,c,los,sr1,alpha)\n",
        "  \n",
        "    \n",
        "    w=mm.new_point(alp,sr1)\n",
        "\n",
        "    alpha=2*alp\n",
        "  return losses\n"
      ],
      "execution_count": 41,
      "outputs": []
    },
    {
      "cell_type": "code",
      "metadata": {
        "id": "9ScuXytXAL7o"
      },
      "source": [
        "def rms(n_epoch,x,y,c,beta,gamma1,w,alpha,D):\n",
        "  losses=[]\n",
        "  for i in range(n_epoch):\n",
        "    m1=np.random.randint(0,n,int(n/5))\n",
        "    x1=x[:,m1]\n",
        "    y1=y[:,m1]\n",
        "    mm=Mon(x1,y1,w)\n",
        "    los=mm.loss()\n",
        "    losses.append(los)\n",
        "    grad=mm.grad_w()\n",
        "   \n",
        "    D1=gamma1*(D*D)+(1-gamma1)*(grad*grad)\n",
        "    \n",
        "    k1=np.sqrt(D1)\n",
        "    D=k1\n",
        "    sr1=(1/k1)*grad\n",
        "    \n",
        "    \n",
        "\n",
        "\n",
        "    alp=ste_siz(x,y,w,beta,c,los,sr1,alpha)\n",
        "  \n",
        "    \n",
        "    w=mm.new_point(alp,sr1)\n",
        "\n",
        "    alpha=2*alp\n",
        "  return losses"
      ],
      "execution_count": 85,
      "outputs": []
    },
    {
      "cell_type": "code",
      "metadata": {
        "id": "wKEf90Ndp3H7"
      },
      "source": [
        "## Initial value\n",
        "\n",
        "n=1000\n",
        "d=200\n",
        "xx=np.random.rand(d,n)\n",
        "x11=np.ones((1,n),dtype=float)\n",
        "x=np.concatenate((x11,xx))\n",
        "w_0=2*np.ones((1,d+1))\n",
        "eps=np.random.randn(1,n)\n",
        "y=np.dot(w_0,x)+.1*eps\n",
        "w=np.random.randn(1,d+1)\n",
        "n_epoch=200\n",
        "D=np.zeros((1,d+1))\n",
        "c=.1\n",
        "beta=.75\n",
        "alpha=.01\n",
        "gamma=.05\n",
        "gamma1=.95"
      ],
      "execution_count": 95,
      "outputs": []
    },
    {
      "cell_type": "code",
      "metadata": {
        "colab": {
          "base_uri": "https://localhost:8080/",
          "height": 279
        },
        "id": "dgs3Nv7UiO32",
        "outputId": "55511829-6230-4267-936b-94134ea221c7"
      },
      "source": [
        "losses_momenton=momenton(n_epoch,x,y,c,beta,gamma,w,alpha)\n",
        "losses_momenton=losses_momenton/(losses_momenton[0])\n",
        "plt.plot(losses_momenton,label='Momenton')\n",
        "\n",
        "losses_non_momenton=non_momenton(n_epoch,x,y,c,beta,gamma,w,alpha)\n",
        "losses_non_momenton=losses_non_momenton/(losses_non_momenton[0])\n",
        "plt.plot(losses_non_momenton, label=\"Non_momenton\")\n",
        "\n",
        "losses_adag=adag(n_epoch,x,y,c,beta,gamma,w,alpha,D)\n",
        "losses_adag=losses_adag/(losses_adag[0])\n",
        "plt.plot(losses_adag, label=\"adag\")\n",
        "\n",
        "losses_rms=rms(n_epoch,x,y,c,beta,gamma1,w,alpha,D)\n",
        "losses_rms=losses_rms/(losses_rms[0])\n",
        "plt.plot(losses_rms, label=\"RMS\")\n",
        "\n",
        "\n",
        "\n",
        "plt.legend()\n",
        "plt.yscale('log')\n",
        "plt.ylabel('Loss Function')\n",
        "plt.xlabel('Ite')\n",
        "plt.show()"
      ],
      "execution_count": 98,
      "outputs": [
        {
          "output_type": "display_data",
          "data": {
            "image/png": "[encoded data removed]",
            "text/plain": [
              "<Figure size 432x288 with 1 Axes>"
            ]
          },
          "metadata": {
            "needs_background": "light"
          }
        }
      ]
    }
  ]
}